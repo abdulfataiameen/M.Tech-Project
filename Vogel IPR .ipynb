{
 "cells": [
  {
   "cell_type": "code",
   "execution_count": 1,
   "metadata": {},
   "outputs": [],
   "source": [
    "##importing libraries\n",
    "import numpy as np\n",
    "import matplotlib.pyplot as plt\n",
    "import pandas as pd\n",
    "%matplotlib inline"
   ]
  },
  {
   "cell_type": "code",
   "execution_count": 12,
   "metadata": {},
   "outputs": [
    {
     "name": "stdout",
     "output_type": "stream",
     "text": [
      "Enter Porosity: 0.19\n",
      "Enter Perm.(md): 8.2\n",
      "Enter pay zone thicknes(Feet): 53\n",
      "Enter  Reservoir Pressure(psi): 5651\n",
      "Enter Bubble Point Pressure(psi): 5651\n",
      "Enter Formation Volume Factor: 1.1\n",
      "Enter fluid viscosity(cp): 1.7\n",
      "Enter Total Compressibility(psi-1): 0.0000129\n",
      "Enter Drainage Area(Acres): 640\n",
      "Enter Wellbore radius(ft): 0.328\n",
      "Enter Skin Factor: 0\n",
      "The value of productivity index is 0.19678102247296522\n",
      "The value of Absolute open flow is  617.783087774848 stb/day\n",
      "    Pressures  flowrates_vogel\n",
      "0        5651         0.000000\n",
      "1        5000       121.545450\n",
      "2        4500       205.991550\n",
      "3        4000       282.699353\n",
      "4        3500       351.668859\n",
      "5        3000       412.900068\n",
      "6        2500       466.392981\n",
      "7        2000       512.147596\n",
      "8        1500       550.163914\n",
      "9        1000       580.441936\n",
      "10        500       602.981660\n",
      "11          0       617.783088\n"
     ]
    },
    {
     "data": {
      "image/png": "[encoded data removed]",
      "text/plain": [
       "<Figure size 648x432 with 1 Axes>"
      ]
     },
     "metadata": {
      "needs_background": "light"
     },
     "output_type": "display_data"
    }
   ],
   "source": [
    "##input parameters\n",
    "porosity = float(input(\"Enter Porosity: \"))\n",
    "K = float(input(\"Enter Perm.(md): \"))\n",
    "h = float(input(\"Enter pay zone thicknes(Feet): \"))\n",
    "P = float(input(\"Enter  Reservoir Pressure(psi): \"))\n",
    "Pb = float(input(\"Enter Bubble Point Pressure(psi): \"))\n",
    "Bo = float(input(\"Enter Formation Volume Factor: \"))\n",
    "Viscosity  = float(input(\"Enter fluid viscosity(cp): \"))\n",
    "ct = float(input(\"Enter Total Compressibility(psi-1): \"))\n",
    "A = float(input(\"Enter Drainage Area(Acres): \"))\n",
    "re = np.sqrt(43560*A/3.14)\n",
    "rw = float(input(\"Enter Wellbore radius(ft): \"))\n",
    "S = float(input(\"Enter Skin Factor: \"))\n",
    "##Calculation of productivity index\n",
    "J = K*h/(141.2*Bo*Viscosity*(np.log(re/rw)-0.75+S))\n",
    "print(\"The value of productivity index is\", J)\n",
    "##Calculation of Absolute open flow\n",
    "qmax = J*P/1.8\n",
    "print(\"The value of Absolute open flow is \", qmax, \"stb/day\")\n",
    "##Pressures array\n",
    "a = np.arange(0,5500,500)\n",
    "b = np.append(a,5651)\n",
    "pwf = b[-1::-1]\n",
    "##Calculation of flowrate\n",
    "flowrate = []\n",
    "for i in pwf:\n",
    "    q = qmax*(1-0.2*(i/P)-0.8*((i/P)**2))\n",
    "    flowrate.append(q)\n",
    "flowrates = np.array(flowrate)\n",
    "df = pd.DataFrame()\n",
    "df[\"Pressures\"] = pwf\n",
    "df[\"flowrates_vogel\"] =flowrates\n",
    "##plotting IPR\n",
    "plt.figure(figsize = (9,6))\n",
    "plt.plot(flowrates,pwf,c = \"red\",linewidth=3)\n",
    "plt.xlabel(\"Flowrate(stb/day)\")\n",
    "plt.ylabel(\"pwf(psia)\")\n",
    "plt.grid(True)\n",
    "plt.title(\"Vogel's IPR for Saturated Reservoir\")\n",
    "print(df)"
   ]
  },
  {
   "cell_type": "code",
   "execution_count": 13,
   "metadata": {},
   "outputs": [],
   "source": [
    "## Code written by Jaiyesh chahar\n",
    "## Input parameters taken from Boyun Guo"
   ]
  },
  {
   "cell_type": "code",
   "execution_count": null,
   "metadata": {},
   "outputs": [],
   "source": []
  }
 ],
 "metadata": {
  "kernelspec": {
   "display_name": "Python 3",
   "language": "python",
   "name": "python3"
  },
  "language_info": {
   "codemirror_mode": {
    "name": "ipython",
    "version": 3
   },
   "file_extension": ".py",
   "mimetype": "text/x-python",
   "name": "python",
   "nbconvert_exporter": "python",
   "pygments_lexer": "ipython3",
   "version": "3.7.4"
  }
 },
 "nbformat": 4,
 "nbformat_minor": 2
}
