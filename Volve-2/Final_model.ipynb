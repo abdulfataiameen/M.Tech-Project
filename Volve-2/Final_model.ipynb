{
 "cells": [
  {
   "cell_type": "code",
   "execution_count": 1,
   "metadata": {},
   "outputs": [],
   "source": [
    "import pandas as pd\n",
    "import numpy as np\n",
    "from matplotlib import pyplot as plt\n",
    "from sklearn.model_selection import train_test_split\n",
    "from sklearn.linear_model import LinearRegression\n",
    "\n",
    "df = pd.read_csv('Volve production data.csv',encoding= 'unicode_escape')"
   ]
  },
  {
   "cell_type": "code",
   "execution_count": 2,
   "metadata": {},
   "outputs": [
    {
     "name": "stdout",
     "output_type": "stream",
     "text": [
      "         DATEPRD  WELL_BORE_CODE  NPD_WELL_BORE_CODE NPD_WELL_BORE_NAME  \\\n",
      "0      07-Apr-14   NO 15/9-F-1 C                7405         15/9-F-1 C   \n",
      "1      08-Apr-14   NO 15/9-F-1 C                7405         15/9-F-1 C   \n",
      "2      09-Apr-14   NO 15/9-F-1 C                7405         15/9-F-1 C   \n",
      "3      10-Apr-14   NO 15/9-F-1 C                7405         15/9-F-1 C   \n",
      "4      11-Apr-14   NO 15/9-F-1 C                7405         15/9-F-1 C   \n",
      "...          ...             ...                 ...                ...   \n",
      "15629  14-Sep-16  NO 15/9-F-5 AH                5769           15/9-F-5   \n",
      "15630  15-Sep-16  NO 15/9-F-5 AH                5769           15/9-F-5   \n",
      "15631  16-Sep-16  NO 15/9-F-5 AH                5769           15/9-F-5   \n",
      "15632  17-Sep-16  NO 15/9-F-5 AH                5769           15/9-F-5   \n",
      "15633  18-Sep-16  NO 15/9-F-5 AH                5769           15/9-F-5   \n",
      "\n",
      "       NPD_FIELD_CODE NPD_FIELD_NAME  NPD_FACILITY_CODE NPD_FACILITY_NAME  \\\n",
      "0             3420717          VOLVE             369304    MÆRSK INSPIRER   \n",
      "1             3420717          VOLVE             369304    MÆRSK INSPIRER   \n",
      "2             3420717          VOLVE             369304    MÆRSK INSPIRER   \n",
      "3             3420717          VOLVE             369304    MÆRSK INSPIRER   \n",
      "4             3420717          VOLVE             369304    MÆRSK INSPIRER   \n",
      "...               ...            ...                ...               ...   \n",
      "15629         3420717          VOLVE             369304    MÆRSK INSPIRER   \n",
      "15630         3420717          VOLVE             369304    MÆRSK INSPIRER   \n",
      "15631         3420717          VOLVE             369304    MÆRSK INSPIRER   \n",
      "15632         3420717          VOLVE             369304    MÆRSK INSPIRER   \n",
      "15633         3420717          VOLVE             369304    MÆRSK INSPIRER   \n",
      "\n",
      "       ON_STREAM_HRS  AVG_DOWNHOLE_PRESSURE  ...  AVG_CHOKE_UOM  AVG_WHP_P  \\\n",
      "0                0.0                    0.0  ...              %        0.0   \n",
      "1                0.0                    NaN  ...              %        0.0   \n",
      "2                0.0                    NaN  ...              %        0.0   \n",
      "3                0.0                    NaN  ...              %        0.0   \n",
      "4                0.0                  310.0  ...              %       33.0   \n",
      "...              ...                    ...  ...            ...        ...   \n",
      "15629            0.0                    NaN  ...              %        0.0   \n",
      "15630            0.0                    NaN  ...              %        0.0   \n",
      "15631            0.0                    NaN  ...              %        0.0   \n",
      "15632            0.0                    NaN  ...              %        0.0   \n",
      "15633            0.0                    NaN  ...            NaN        NaN   \n",
      "\n",
      "       AVG_WHT_P  DP_CHOKE_SIZE BORE_OIL_VOL  BORE_GAS_VOL  BORE_WAT_VOL  \\\n",
      "0            0.0            0.0            0             0             0   \n",
      "1            0.0            0.0            0             0             0   \n",
      "2            0.0            0.0            0             0             0   \n",
      "3            0.0            0.0            0             0             0   \n",
      "4           10.0           33.0            0             0             0   \n",
      "...          ...            ...          ...           ...           ...   \n",
      "15629        0.0            0.0            0             0             0   \n",
      "15630        0.0            0.0            0             0             0   \n",
      "15631        0.0            0.0            0             0             0   \n",
      "15632        0.0            0.0            0             0             0   \n",
      "15633        NaN            0.0          NaN           NaN           NaN   \n",
      "\n",
      "       BORE_WI_VOL   FLOW_KIND WELL_TYPE  \n",
      "0              NaN  production        WI  \n",
      "1              NaN  production        OP  \n",
      "2              NaN  production        OP  \n",
      "3              NaN  production        OP  \n",
      "4              NaN  production        OP  \n",
      "...            ...         ...       ...  \n",
      "15629          NaN  production        OP  \n",
      "15630          NaN  production        OP  \n",
      "15631          NaN  production        OP  \n",
      "15632          NaN  production        OP  \n",
      "15633            0   injection        WI  \n",
      "\n",
      "[15634 rows x 24 columns]\n"
     ]
    }
   ],
   "source": [
    "#Roundinf off the data to the nearest integer\n",
    "newdf = np.round(df)\n",
    "print(newdf)"
   ]
  },
  {
   "cell_type": "code",
   "execution_count": 3,
   "metadata": {},
   "outputs": [
    {
     "name": "stdout",
     "output_type": "stream",
     "text": [
      "<class 'pandas.core.frame.DataFrame'>\n",
      "RangeIndex: 15634 entries, 0 to 15633\n",
      "Data columns (total 24 columns):\n",
      "DATEPRD                     15634 non-null object\n",
      "WELL_BORE_CODE              15634 non-null object\n",
      "NPD_WELL_BORE_CODE          15634 non-null int64\n",
      "NPD_WELL_BORE_NAME          15634 non-null object\n",
      "NPD_FIELD_CODE              15634 non-null int64\n",
      "NPD_FIELD_NAME              15634 non-null object\n",
      "NPD_FACILITY_CODE           15634 non-null int64\n",
      "NPD_FACILITY_NAME           15634 non-null object\n",
      "ON_STREAM_HRS               15349 non-null float64\n",
      "AVG_DOWNHOLE_PRESSURE       8980 non-null float64\n",
      "AVG_DOWNHOLE_TEMPERATURE    8980 non-null float64\n",
      "AVG_DP_TUBING               8980 non-null float64\n",
      "AVG_ANNULUS_PRESS           7890 non-null float64\n",
      "AVG_CHOKE_SIZE_P            8919 non-null float64\n",
      "AVG_CHOKE_UOM               9161 non-null object\n",
      "AVG_WHP_P                   9155 non-null float64\n",
      "AVG_WHT_P                   9146 non-null float64\n",
      "DP_CHOKE_SIZE               15340 non-null float64\n",
      "BORE_OIL_VOL                9161 non-null object\n",
      "BORE_GAS_VOL                9161 non-null object\n",
      "BORE_WAT_VOL                9161 non-null object\n",
      "BORE_WI_VOL                 5706 non-null object\n",
      "FLOW_KIND                   15634 non-null object\n",
      "WELL_TYPE                   15634 non-null object\n",
      "dtypes: float64(9), int64(3), object(12)\n",
      "memory usage: 2.9+ MB\n",
      "None\n",
      "NPD_WELL_BORE_CODE          421501.699100\n",
      "NPD_FIELD_CODE                   0.000000\n",
      "NPD_FACILITY_CODE                0.000000\n",
      "ON_STREAM_HRS                   70.111698\n",
      "AVG_DOWNHOLE_PRESSURE        12037.404873\n",
      "AVG_DOWNHOLE_TEMPERATURE      2084.034234\n",
      "AVG_DP_TUBING                 5891.504923\n",
      "AVG_ANNULUS_PRESS               70.786956\n",
      "AVG_CHOKE_SIZE_P              1346.965707\n",
      "AVG_WHP_P                      612.859775\n",
      "AVG_WHT_P                      767.975456\n",
      "DP_CHOKE_SIZE                  392.660926\n",
      "dtype: float64\n"
     ]
    }
   ],
   "source": [
    "print(newdf.info())\n",
    "print(newdf.var())"
   ]
  },
  {
   "cell_type": "code",
   "execution_count": 4,
   "metadata": {},
   "outputs": [],
   "source": [
    "#Data is highly skewed and depends on the well,hence i have used padding to fill the missing values \n",
    "newdf['ON_STREAM_HRS'] = newdf['ON_STREAM_HRS'].fillna(method='pad')"
   ]
  },
  {
   "cell_type": "code",
   "execution_count": 5,
   "metadata": {},
   "outputs": [],
   "source": [
    "newdf['AVG_DOWNHOLE_PRESSURE'] = newdf['AVG_DOWNHOLE_PRESSURE'].fillna(method='pad')"
   ]
  },
  {
   "cell_type": "code",
   "execution_count": 6,
   "metadata": {},
   "outputs": [],
   "source": [
    "newdf['AVG_DOWNHOLE_TEMPERATURE'] = newdf['AVG_DOWNHOLE_TEMPERATURE'].fillna(method='pad')"
   ]
  },
  {
   "cell_type": "code",
   "execution_count": 7,
   "metadata": {},
   "outputs": [],
   "source": [
    "newdf['AVG_DP_TUBING'] = newdf['AVG_DP_TUBING'].fillna(method='pad')"
   ]
  },
  {
   "cell_type": "code",
   "execution_count": 8,
   "metadata": {},
   "outputs": [],
   "source": [
    "newdf['AVG_ANNULUS_PRESS'] = newdf['AVG_ANNULUS_PRESS'].fillna(method='pad')"
   ]
  },
  {
   "cell_type": "code",
   "execution_count": 9,
   "metadata": {},
   "outputs": [],
   "source": [
    "newdf['AVG_CHOKE_SIZE_P'] = newdf['AVG_CHOKE_SIZE_P'].fillna(method='pad')"
   ]
  },
  {
   "cell_type": "code",
   "execution_count": 10,
   "metadata": {},
   "outputs": [],
   "source": [
    "newdf['AVG_WHP_P'] = newdf['AVG_WHP_P'].fillna(method='pad')\n",
    "\n",
    "newdf['AVG_WHT_P'] = newdf['AVG_WHT_P'].fillna(method='pad')\n",
    "\n",
    "newdf['DP_CHOKE_SIZE'] = newdf['DP_CHOKE_SIZE'].fillna(method='pad')\n",
    "\n",
    "newdf['BORE_OIL_VOL'] = newdf['BORE_OIL_VOL'].fillna(method='pad')\n",
    "\n",
    "newdf['BORE_GAS_VOL'] = newdf['BORE_GAS_VOL'].fillna(method='pad')\n",
    "\n",
    "newdf['BORE_WAT_VOL'] = newdf['BORE_WAT_VOL'].fillna(method='pad')\n"
   ]
  },
  {
   "cell_type": "code",
   "execution_count": 11,
   "metadata": {},
   "outputs": [
    {
     "name": "stdout",
     "output_type": "stream",
     "text": [
      "<class 'pandas.core.frame.DataFrame'>\n",
      "RangeIndex: 15634 entries, 0 to 15633\n",
      "Data columns (total 24 columns):\n",
      "DATEPRD                     15634 non-null object\n",
      "WELL_BORE_CODE              15634 non-null object\n",
      "NPD_WELL_BORE_CODE          15634 non-null int64\n",
      "NPD_WELL_BORE_NAME          15634 non-null object\n",
      "NPD_FIELD_CODE              15634 non-null int64\n",
      "NPD_FIELD_NAME              15634 non-null object\n",
      "NPD_FACILITY_CODE           15634 non-null int64\n",
      "NPD_FACILITY_NAME           15634 non-null object\n",
      "ON_STREAM_HRS               15634 non-null float64\n",
      "AVG_DOWNHOLE_PRESSURE       15634 non-null float64\n",
      "AVG_DOWNHOLE_TEMPERATURE    15634 non-null float64\n",
      "AVG_DP_TUBING               15634 non-null float64\n",
      "AVG_ANNULUS_PRESS           15634 non-null float64\n",
      "AVG_CHOKE_SIZE_P            15634 non-null float64\n",
      "AVG_CHOKE_UOM               9161 non-null object\n",
      "AVG_WHP_P                   15634 non-null float64\n",
      "AVG_WHT_P                   15634 non-null float64\n",
      "DP_CHOKE_SIZE               15634 non-null float64\n",
      "BORE_OIL_VOL                15634 non-null object\n",
      "BORE_GAS_VOL                15634 non-null object\n",
      "BORE_WAT_VOL                15634 non-null object\n",
      "BORE_WI_VOL                 5706 non-null object\n",
      "FLOW_KIND                   15634 non-null object\n",
      "WELL_TYPE                   15634 non-null object\n",
      "dtypes: float64(9), int64(3), object(12)\n",
      "memory usage: 2.9+ MB\n",
      "None\n"
     ]
    }
   ],
   "source": [
    "print(newdf.info())"
   ]
  },
  {
   "cell_type": "code",
   "execution_count": 12,
   "metadata": {},
   "outputs": [
    {
     "name": "stdout",
     "output_type": "stream",
     "text": [
      "<class 'pandas.core.frame.DataFrame'>\n",
      "RangeIndex: 15634 entries, 0 to 15633\n",
      "Data columns (total 12 columns):\n",
      "DATEPRD                     15634 non-null object\n",
      "NPD_WELL_BORE_CODE          15634 non-null int64\n",
      "ON_STREAM_HRS               15634 non-null float64\n",
      "AVG_DOWNHOLE_TEMPERATURE    15634 non-null float64\n",
      "AVG_ANNULUS_PRESS           15634 non-null float64\n",
      "AVG_CHOKE_SIZE_P            15634 non-null float64\n",
      "AVG_WHP_P                   15634 non-null float64\n",
      "AVG_WHT_P                   15634 non-null float64\n",
      "DP_CHOKE_SIZE               15634 non-null float64\n",
      "BORE_OIL_VOL                15634 non-null object\n",
      "BORE_GAS_VOL                15634 non-null object\n",
      "BORE_WAT_VOL                15634 non-null object\n",
      "dtypes: float64(7), int64(1), object(4)\n",
      "memory usage: 1.4+ MB\n",
      "None\n"
     ]
    }
   ],
   "source": [
    "#Carrying out dimensionality reduction on the original dataframe\n",
    "#Dropping unnecessary features: WELL_BORE_CODE, NPD_WELL_BORE_NAME, NPD_FIELD_NAME, NPD_FIELD_CODE,NPD_FACILITY_CODE,NPD_FACILITY_NAME\n",
    "\n",
    "to_drop = [\"WELL_BORE_CODE\", \"NPD_WELL_BORE_NAME\", \"NPD_FIELD_NAME\", \"NPD_FIELD_CODE\", \"NPD_FACILITY_CODE\", \"NPD_FACILITY_NAME\",\"AVG_DOWNHOLE_PRESSURE\", \"AVG_DP_TUBING\",\"BORE_WI_VOL\",\"AVG_CHOKE_UOM\",\"FLOW_KIND\",\"WELL_TYPE\"]\n",
    "newdf = newdf.drop(to_drop, axis=1)\n",
    "print(newdf.info())"
   ]
  },
  {
   "cell_type": "code",
   "execution_count": 13,
   "metadata": {},
   "outputs": [],
   "source": [
    "newdf['BORE_OIL_VOL'] = newdf['BORE_OIL_VOL'].str.replace(',','', regex = False)\n",
    "newdf['BORE_WAT_VOL'] = newdf['BORE_WAT_VOL'].str.replace(',','', regex = False)\n",
    "newdf['BORE_GAS_VOL'] = newdf['BORE_GAS_VOL'].str.replace(',','', regex = False)\n"
   ]
  },
  {
   "cell_type": "code",
   "execution_count": 14,
   "metadata": {},
   "outputs": [],
   "source": [
    "newdf['BORE_GAS_VOL'] = newdf['BORE_GAS_VOL'].astype(float)"
   ]
  },
  {
   "cell_type": "code",
   "execution_count": 15,
   "metadata": {},
   "outputs": [],
   "source": [
    "newdf['BORE_OIL_VOL'] = newdf['BORE_OIL_VOL'].astype(float)\n",
    "newdf['BORE_WAT_VOL'] = newdf['BORE_WAT_VOL'].astype(float)"
   ]
  },
  {
   "cell_type": "code",
   "execution_count": null,
   "metadata": {},
   "outputs": [],
   "source": []
  },
  {
   "cell_type": "code",
   "execution_count": 16,
   "metadata": {},
   "outputs": [],
   "source": [
    "from sklearn.preprocessing import MinMaxScaler\n",
    "\n",
    "scaler = MinMaxScaler()\n",
    "\n",
    "#newdf_scaled = pd.DataFrame('ON_STREAM_HRS','AVG_DOWNHOLE_TEMPERATURE','AVG_ANNULUS_PRESS','AVG_CHOKE_SIZE_P','AVG_WHP_P','AVG_WHT_P','BORE_GAS_VOL')\n",
    "\n",
    "newdf[['ON_STREAM_HRS','AVG_DOWNHOLE_TEMPERATURE']] = scaler.fit_transform(newdf[['ON_STREAM_HRS', 'AVG_DOWNHOLE_TEMPERATURE']])\n",
    "\n",
    "newdf[['AVG_ANNULUS_PRESS','AVG_CHOKE_SIZE_P']] = scaler.fit_transform(newdf[['AVG_ANNULUS_PRESS', 'AVG_CHOKE_SIZE_P']])\n",
    "\n",
    "newdf[['AVG_WHP_P','AVG_WHT_P']] = scaler.fit_transform(newdf[['AVG_WHP_P', 'AVG_WHT_P']])\n",
    "\n",
    "newdf[['BORE_GAS_VOL','BORE_OIL_VOL','BORE_WAT_VOL']] = scaler.fit_transform(newdf[['BORE_GAS_VOL', 'BORE_OIL_VOL','BORE_WAT_VOL']])\n",
    "\n",
    "\n",
    "#Taking the data of wells 2 to 4 since they were the ones with the east number of missing values\n",
    "fdf = newdf.loc[746 : 8022]\n",
    "\n",
    "X = fdf.drop(['BORE_OIL_VOL','DATEPRD'],axis=1).values\n",
    "y= fdf['BORE_OIL_VOL'].values\n",
    "\n",
    "#Applying Linear Regression\n",
    "\n",
    "X_train, X_test, y_train, y_test = train_test_split(X, y,test_size = 0.3, random_state=42)\n",
    "\n",
    "reg_all = LinearRegression()"
   ]
  },
  {
   "cell_type": "code",
   "execution_count": 17,
   "metadata": {},
   "outputs": [
    {
     "data": {
      "text/plain": [
       "LinearRegression(copy_X=True, fit_intercept=True, n_jobs=None, normalize=False)"
      ]
     },
     "execution_count": 17,
     "metadata": {},
     "output_type": "execute_result"
    }
   ],
   "source": [
    "reg_all.fit(X_train, y_train)"
   ]
  },
  {
   "cell_type": "code",
   "execution_count": 18,
   "metadata": {},
   "outputs": [],
   "source": [
    "y_pred = reg_all.predict(X_test)"
   ]
  },
  {
   "cell_type": "code",
   "execution_count": 19,
   "metadata": {},
   "outputs": [
    {
     "data": {
      "text/plain": [
       "0.9974987700152146"
      ]
     },
     "execution_count": 19,
     "metadata": {},
     "output_type": "execute_result"
    }
   ],
   "source": [
    "reg_all.score(X_test, y_test)"
   ]
  },
  {
   "cell_type": "code",
   "execution_count": 20,
   "metadata": {},
   "outputs": [
    {
     "name": "stdout",
     "output_type": "stream",
     "text": [
      "[0.96184603 0.99579957 0.92266904 0.99427155 0.97563907]\n"
     ]
    },
    {
     "data": {
      "text/plain": [
       "0.9700450511282405"
      ]
     },
     "execution_count": 20,
     "metadata": {},
     "output_type": "execute_result"
    }
   ],
   "source": [
    "from sklearn.model_selection import cross_val_score\n",
    "\n",
    "cv_results = cross_val_score(reg_all, X, y, cv=5)\n",
    "\n",
    "print(cv_results)\n",
    "\n",
    "np.mean(cv_results)"
   ]
  },
  {
   "cell_type": "code",
   "execution_count": 21,
   "metadata": {},
   "outputs": [
    {
     "data": {
      "text/plain": [
       "0.9848641359274862"
      ]
     },
     "execution_count": 21,
     "metadata": {},
     "output_type": "execute_result"
    }
   ],
   "source": [
    "# Applying Ridge Regression\n",
    "\n",
    "from sklearn.linear_model import Ridge\n",
    "\n",
    "ridge = Ridge(alpha=0.1, normalize=True)\n",
    "\n",
    "ridge.fit(X_train, y_train)\n",
    "\n",
    "ridge_pred = ridge.predict(X_test)\n",
    "\n",
    "ridge.score(X_test, y_test)"
   ]
  },
  {
   "cell_type": "code",
   "execution_count": null,
   "metadata": {},
   "outputs": [],
   "source": [
    "\n"
   ]
  },
  {
   "cell_type": "code",
   "execution_count": null,
   "metadata": {},
   "outputs": [],
   "source": []
  }
 ],
 "metadata": {
  "kernelspec": {
   "display_name": "Python 3",
   "language": "python",
   "name": "python3"
  },
  "language_info": {
   "codemirror_mode": {
    "name": "ipython",
    "version": 3
   },
   "file_extension": ".py",
   "mimetype": "text/x-python",
   "name": "python",
   "nbconvert_exporter": "python",
   "pygments_lexer": "ipython3",
   "version": "3.7.4"
  }
 },
 "nbformat": 4,
 "nbformat_minor": 4
}
