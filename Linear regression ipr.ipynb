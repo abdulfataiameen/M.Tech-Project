{
 "cells": [
  {
   "cell_type": "code",
   "execution_count": 4,
   "metadata": {},
   "outputs": [],
   "source": [
    "##importing libraries\n",
    "import numpy as np\n",
    "import matplotlib.pyplot as plt\n",
    "import pandas as pd\n",
    "%matplotlib inline"
   ]
  },
  {
   "cell_type": "code",
   "execution_count": 5,
   "metadata": {},
   "outputs": [
    {
     "name": "stdout",
     "output_type": "stream",
     "text": [
      "Enter Porosity: 0.19\n",
      "Enter Perm.(md): 8.2\n",
      "Enter pay zone thicknes(Feet): 53\n",
      "Enter  Reservoir Pressure(psi): 5651\n",
      "Enter Bubble Point Pressure(psi): 5651\n",
      "Enter Formation Volume Factor: 1.1\n",
      "Enter fluid viscosity(cp): 1.7\n",
      "Enter Total Compressibility(psi-1): 0.0000129\n",
      "Enter Drainage Area(Acres): 640\n",
      "Enter Wellbore radius(ft): 0.328\n",
      "Enter Skin Factor: 0\n"
     ]
    }
   ],
   "source": [
    "##input parameters\n",
    "porosity = float(input(\"Enter Porosity: \"))\n",
    "K = float(input(\"Enter Perm.(md): \"))\n",
    "h = float(input(\"Enter pay zone thicknes(Feet): \"))\n",
    "P = float(input(\"Enter  Reservoir Pressure(psi): \"))\n",
    "Pb = float(input(\"Enter Bubble Point Pressure(psi): \"))\n",
    "Bo = float(input(\"Enter Formation Volume Factor: \"))\n",
    "Viscosity  = float(input(\"Enter fluid viscosity(cp): \"))\n",
    "ct = float(input(\"Enter Total Compressibility(psi-1): \"))\n",
    "A = float(input(\"Enter Drainage Area(Acres): \"))\n",
    "re = np.sqrt(43560*A/3.14)\n",
    "rw = float(input(\"Enter Wellbore radius(ft): \"))\n",
    "S = float(input(\"Enter Skin Factor: \"))"
   ]
  },
  {
   "cell_type": "code",
   "execution_count": 6,
   "metadata": {},
   "outputs": [
    {
     "name": "stdout",
     "output_type": "stream",
     "text": [
      "The value of productivity index is 0.19678102247296522\n",
      "The value of Absolute open flow is  617.783087774848 stb/day\n",
      "      Pressures  flowrates_vogel\n",
      "0          5651         0.000000\n",
      "1          5495        30.321201\n",
      "2          5490        31.280576\n",
      "3          5485        32.239177\n",
      "4          5480        33.197004\n",
      "...         ...              ...\n",
      "1096         20       617.339606\n",
      "1097         15       617.451637\n",
      "1098         10       617.562895\n",
      "1099          5       617.673378\n",
      "1100          0       617.783088\n",
      "\n",
      "[1101 rows x 2 columns]\n"
     ]
    },
    {
     "data": {
      "image/png": "[encoded data removed]",
      "text/plain": [
       "<Figure size 648x432 with 1 Axes>"
      ]
     },
     "metadata": {
      "needs_background": "light"
     },
     "output_type": "display_data"
    }
   ],
   "source": [
    "##Calculation of productivity index\n",
    "J = K*h/(141.2*Bo*Viscosity*(np.log(re/rw)-0.75+S))\n",
    "print(\"The value of productivity index is\", J)\n",
    "##Calculation of Absolute open flow\n",
    "qmax = J*P/1.8\n",
    "print(\"The value of Absolute open flow is \", qmax, \"stb/day\")\n",
    "##Pressures array\n",
    "a = np.arange(0,5500,5)\n",
    "b = np.append(a,5651)\n",
    "pwf = b[-1::-1]\n",
    "##Calculation of flowrate\n",
    "flowrate = []\n",
    "for i in pwf:\n",
    "    q = qmax*(1-0.2*(i/P)-0.8*((i/P)**2))\n",
    "    flowrate.append(q)\n",
    "flowrates = np.array(flowrate)\n",
    "df = pd.DataFrame()\n",
    "df[\"Pressures\"] = pwf\n",
    "df[\"flowrates_vogel\"] =flowrates\n",
    "##plotting IPR\n",
    "plt.figure(figsize = (9,6))\n",
    "plt.plot(flowrates,pwf,c = \"red\",linewidth=3)\n",
    "plt.xlabel(\"Flowrate(stb/day)\")\n",
    "plt.ylabel(\"pwf(psia)\")\n",
    "plt.grid(True)\n",
    "plt.title(\"Vogel's IPR for Saturated Reservoir\")\n",
    "print(df)"
   ]
  },
  {
   "cell_type": "code",
   "execution_count": 7,
   "metadata": {},
   "outputs": [
    {
     "data": {
      "text/html": [
       "<div>\n",
       "<style scoped>\n",
       "    .dataframe tbody tr th:only-of-type {\n",
       "        vertical-align: middle;\n",
       "    }\n",
       "\n",
       "    .dataframe tbody tr th {\n",
       "        vertical-align: top;\n",
       "    }\n",
       "\n",
       "    .dataframe thead th {\n",
       "        text-align: right;\n",
       "    }\n",
       "</style>\n",
       "<table border=\"1\" class=\"dataframe\">\n",
       "  <thead>\n",
       "    <tr style=\"text-align: right;\">\n",
       "      <th></th>\n",
       "      <th>Pressures</th>\n",
       "      <th>flowrates_vogel</th>\n",
       "    </tr>\n",
       "  </thead>\n",
       "  <tbody>\n",
       "    <tr>\n",
       "      <td>0</td>\n",
       "      <td>5651</td>\n",
       "      <td>0.000000</td>\n",
       "    </tr>\n",
       "    <tr>\n",
       "      <td>1</td>\n",
       "      <td>5495</td>\n",
       "      <td>30.321201</td>\n",
       "    </tr>\n",
       "    <tr>\n",
       "      <td>2</td>\n",
       "      <td>5490</td>\n",
       "      <td>31.280576</td>\n",
       "    </tr>\n",
       "    <tr>\n",
       "      <td>3</td>\n",
       "      <td>5485</td>\n",
       "      <td>32.239177</td>\n",
       "    </tr>\n",
       "    <tr>\n",
       "      <td>4</td>\n",
       "      <td>5480</td>\n",
       "      <td>33.197004</td>\n",
       "    </tr>\n",
       "    <tr>\n",
       "      <td>...</td>\n",
       "      <td>...</td>\n",
       "      <td>...</td>\n",
       "    </tr>\n",
       "    <tr>\n",
       "      <td>1096</td>\n",
       "      <td>20</td>\n",
       "      <td>617.339606</td>\n",
       "    </tr>\n",
       "    <tr>\n",
       "      <td>1097</td>\n",
       "      <td>15</td>\n",
       "      <td>617.451637</td>\n",
       "    </tr>\n",
       "    <tr>\n",
       "      <td>1098</td>\n",
       "      <td>10</td>\n",
       "      <td>617.562895</td>\n",
       "    </tr>\n",
       "    <tr>\n",
       "      <td>1099</td>\n",
       "      <td>5</td>\n",
       "      <td>617.673378</td>\n",
       "    </tr>\n",
       "    <tr>\n",
       "      <td>1100</td>\n",
       "      <td>0</td>\n",
       "      <td>617.783088</td>\n",
       "    </tr>\n",
       "  </tbody>\n",
       "</table>\n",
       "<p>1101 rows × 2 columns</p>\n",
       "</div>"
      ],
      "text/plain": [
       "      Pressures  flowrates_vogel\n",
       "0          5651         0.000000\n",
       "1          5495        30.321201\n",
       "2          5490        31.280576\n",
       "3          5485        32.239177\n",
       "4          5480        33.197004\n",
       "...         ...              ...\n",
       "1096         20       617.339606\n",
       "1097         15       617.451637\n",
       "1098         10       617.562895\n",
       "1099          5       617.673378\n",
       "1100          0       617.783088\n",
       "\n",
       "[1101 rows x 2 columns]"
      ]
     },
     "execution_count": 7,
     "metadata": {},
     "output_type": "execute_result"
    }
   ],
   "source": [
    "df"
   ]
  },
  {
   "cell_type": "code",
   "execution_count": 8,
   "metadata": {},
   "outputs": [],
   "source": [
    "df[\"P2\"] = df[\"Pressures\"]**2"
   ]
  },
  {
   "cell_type": "code",
   "execution_count": 9,
   "metadata": {},
   "outputs": [],
   "source": [
    "x = np.array(df[['Pressures',\"P2\"]])"
   ]
  },
  {
   "cell_type": "code",
   "execution_count": 23,
   "metadata": {},
   "outputs": [],
   "source": [
    "y = np.array(df[\"flowrates_vogel\"]).reshape(1101,1)"
   ]
  },
  {
   "cell_type": "code",
   "execution_count": 24,
   "metadata": {},
   "outputs": [
    {
     "data": {
      "text/plain": [
       "array([[    5651, 31933801],\n",
       "       [    5495, 30195025],\n",
       "       [    5490, 30140100],\n",
       "       ...,\n",
       "       [      10,      100],\n",
       "       [       5,       25],\n",
       "       [       0,        0]])"
      ]
     },
     "execution_count": 24,
     "metadata": {},
     "output_type": "execute_result"
    }
   ],
   "source": [
    "x"
   ]
  },
  {
   "cell_type": "code",
   "execution_count": 25,
   "metadata": {},
   "outputs": [
    {
     "data": {
      "text/plain": [
       "(1101, 2)"
      ]
     },
     "execution_count": 25,
     "metadata": {},
     "output_type": "execute_result"
    }
   ],
   "source": [
    "x.shape"
   ]
  },
  {
   "cell_type": "code",
   "execution_count": 26,
   "metadata": {},
   "outputs": [
    {
     "data": {
      "text/plain": [
       "(1101, 1)"
      ]
     },
     "execution_count": 26,
     "metadata": {},
     "output_type": "execute_result"
    }
   ],
   "source": [
    "y.shape"
   ]
  },
  {
   "cell_type": "code",
   "execution_count": 12,
   "metadata": {},
   "outputs": [],
   "source": [
    "from sklearn.model_selection import train_test_split"
   ]
  },
  {
   "cell_type": "code",
   "execution_count": 35,
   "metadata": {},
   "outputs": [
    {
     "name": "stdout",
     "output_type": "stream",
     "text": [
      "linear model coeff (w): [[-2.18645581e-02 -1.54765939e-05]]\n",
      "[617.78308777]\n",
      "R-squared score (training): 1.000\n",
      "R-squared score (test): 1.000\n"
     ]
    }
   ],
   "source": [
    "from sklearn.linear_model import LinearRegression\n",
    "\n",
    "X_train, X_test, y_train, y_test = train_test_split(x, y,\n",
    "                                                   random_state = 0,test_size=0.50)\n",
    "linreg = LinearRegression().fit(X_train, y_train)\n",
    "\n",
    "print('linear model coeff (w): {}'.format(linreg.coef_))\n",
    "#print('linear model intercept (b): {:.3f}'.format(linreg.intercept_))\n",
    "print(linreg.intercept_)\n",
    "print('R-squared score (training): {:.3f}'.format(linreg.score(X_train, y_train)))\n",
    "print('R-squared score (test): {:.3f}'.format(linreg.score(X_test, y_test)))"
   ]
  },
  {
   "cell_type": "code",
   "execution_count": 36,
   "metadata": {},
   "outputs": [
    {
     "data": {
      "text/plain": [
       "(550, 2)"
      ]
     },
     "execution_count": 36,
     "metadata": {},
     "output_type": "execute_result"
    }
   ],
   "source": [
    "X_train.shape"
   ]
  },
  {
   "cell_type": "code",
   "execution_count": 37,
   "metadata": {},
   "outputs": [
    {
     "data": {
      "text/plain": [
       "(551, 2)"
      ]
     },
     "execution_count": 37,
     "metadata": {},
     "output_type": "execute_result"
    }
   ],
   "source": [
    "X_test.shape"
   ]
  },
  {
   "cell_type": "code",
   "execution_count": 38,
   "metadata": {},
   "outputs": [],
   "source": [
    "Y_reg = np.dot(x,linreg.coef_.T)+linreg.intercept_"
   ]
  },
  {
   "cell_type": "code",
   "execution_count": 39,
   "metadata": {},
   "outputs": [
    {
     "data": {
      "text/plain": [
       "array([[  0.        ],\n",
       "       [ 30.32120112],\n",
       "       [ 31.28057583],\n",
       "       ...,\n",
       "       [617.56289453],\n",
       "       [617.67337807],\n",
       "       [617.78308777]])"
      ]
     },
     "execution_count": 39,
     "metadata": {},
     "output_type": "execute_result"
    }
   ],
   "source": [
    "Y_reg"
   ]
  },
  {
   "cell_type": "code",
   "execution_count": 41,
   "metadata": {},
   "outputs": [
    {
     "data": {
      "text/plain": [
       "Text(0.5, 1.0, \"Vogel's IPR for Saturated Reservoir Regression\")"
      ]
     },
     "execution_count": 41,
     "metadata": {},
     "output_type": "execute_result"
    },
    {
     "data": {
      "image/png": "[encoded data removed]",
      "text/plain": [
       "<Figure size 432x288 with 1 Axes>"
      ]
     },
     "metadata": {
      "needs_background": "light"
     },
     "output_type": "display_data"
    }
   ],
   "source": [
    "plt.plot(Y_reg,pwf,c = \"red\",linewidth=3)\n",
    "plt.xlabel(\"Flowrate(stb/day)\")\n",
    "plt.ylabel(\"pwf(psia)\")\n",
    "plt.grid(True)\n",
    "plt.title(\"Vogel's IPR for Saturated Reservoir Regression\")\n"
   ]
  },
  {
   "cell_type": "code",
   "execution_count": 42,
   "metadata": {},
   "outputs": [
    {
     "name": "stdout",
     "output_type": "stream",
     "text": [
      "      Pressures  flowrates_vogel        P2\n",
      "0          5651         0.000000  31933801\n",
      "1          5495        30.321201  30195025\n",
      "2          5490        31.280576  30140100\n",
      "3          5485        32.239177  30085225\n",
      "4          5480        33.197004  30030400\n",
      "...         ...              ...       ...\n",
      "1096         20       617.339606       400\n",
      "1097         15       617.451637       225\n",
      "1098         10       617.562895       100\n",
      "1099          5       617.673378        25\n",
      "1100          0       617.783088         0\n",
      "\n",
      "[1101 rows x 3 columns]\n"
     ]
    },
    {
     "data": {
      "image/png": "[encoded data removed]",
      "text/plain": [
       "<Figure size 648x432 with 1 Axes>"
      ]
     },
     "metadata": {
      "needs_background": "light"
     },
     "output_type": "display_data"
    }
   ],
   "source": [
    "plt.figure(figsize = (9,6))\n",
    "plt.plot(flowrates,pwf,c = \"red\",linewidth=3)\n",
    "plt.xlabel(\"Flowrate(stb/day)\")\n",
    "plt.ylabel(\"pwf(psia)\")\n",
    "plt.grid(True)\n",
    "plt.title(\"Vogel's IPR for Saturated Reservoir\")\n",
    "print(df)"
   ]
  },
  {
   "cell_type": "code",
   "execution_count": 45,
   "metadata": {},
   "outputs": [
    {
     "name": "stdout",
     "output_type": "stream",
     "text": [
      "[[-2.18645581e-02 -1.54765939e-05]]\n",
      "[617.78308777]\n",
      "1.0\n",
      "1.0\n",
      "\n",
      "Now we transform the original input data to add\n",
      "polynomial features up to degree 2 (quadratic)\n",
      "\n",
      "[[-2.18645581e-02 -1.54765939e-05]]\n",
      "[617.78308777]\n",
      "1.0\n",
      "1.0\n"
     ]
    }
   ],
   "source": [
    "from sklearn.linear_model import LinearRegression\n",
    "from sklearn.linear_model import Ridge\n",
    "from sklearn.preprocessing import PolynomialFeatures\n",
    "\n",
    "\n",
    "X_train, X_test, y_train, y_test = train_test_split(x, y,\n",
    "                                                   random_state = 0)\n",
    "linreg = LinearRegression().fit(X_train, y_train)\n",
    "\n",
    "print(linreg.coef_)\n",
    "print(linreg.intercept_)\n",
    "print(linreg.score(X_train, y_train))\n",
    "print(linreg.score(X_test, y_test))\n",
    "\n",
    "print('\\nNow we transform the original input data to add\\n\\\n",
    "polynomial features up to degree 2 (quadratic)\\n')\n",
    "poly = PolynomialFeatures(degree=2)\n",
    "X_F1_poly = poly.fit_transform(x)\n",
    "\n",
    "X_train, X_test, y_train, y_test = train_test_split(x,y,random_state = 0)\n",
    "linreg = LinearRegression().fit(X_train, y_train)\n",
    "\n",
    "print(linreg.coef_)\n",
    "print(linreg.intercept_)\n",
    "print(linreg.score(X_train, y_train))\n",
    "print(linreg.score(X_test, y_test))\n",
    "\n"
   ]
  },
  {
   "cell_type": "code",
   "execution_count": null,
   "metadata": {},
   "outputs": [],
   "source": []
  },
  {
   "cell_type": "code",
   "execution_count": null,
   "metadata": {},
   "outputs": [],
   "source": []
  }
 ],
 "metadata": {
  "kernelspec": {
   "display_name": "Python 3",
   "language": "python",
   "name": "python3"
  },
  "language_info": {
   "codemirror_mode": {
    "name": "ipython",
    "version": 3
   },
   "file_extension": ".py",
   "mimetype": "text/x-python",
   "name": "python",
   "nbconvert_exporter": "python",
   "pygments_lexer": "ipython3",
   "version": "3.7.4"
  }
 },
 "nbformat": 4,
 "nbformat_minor": 2
}
