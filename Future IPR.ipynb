{
 "cells": [
  {
   "cell_type": "code",
   "execution_count": 2,
   "metadata": {},
   "outputs": [],
   "source": [
    "import numpy as np\n",
    "import matplotlib.pyplot as plt\n",
    "%matplotlib inline\n",
    "\n",
    "from ipywidgets import interact, interactive\n",
    "from IPython.display import clear_output, display, HTML\n",
    "import ipywidgets as widgets"
   ]
  },
  {
   "cell_type": "code",
   "execution_count": 3,
   "metadata": {},
   "outputs": [
    {
     "name": "stdout",
     "output_type": "stream",
     "text": [
      "Enter the Intial Reservoir Pressure(psia): 2000\n",
      "Enter the value of performance coefficient(stb/day-psia2)0.0005\n"
     ]
    },
    {
     "data": {
      "application/vnd.jupyter.widget-view+json": {
       "model_id": "1eebf4ac253640a3b49b0ae3c0085e15",
       "version_major": 2,
       "version_minor": 0
      },
      "text/plain": [
       "interactive(children=(Dropdown(description='Average_Pressure', options=(100.0, 200.0, 300.0, 400.0, 500.0, 600…"
      ]
     },
     "metadata": {},
     "output_type": "display_data"
    },
    {
     "data": {
      "text/plain": [
       "<Figure size 864x576 with 0 Axes>"
      ]
     },
     "metadata": {},
     "output_type": "display_data"
    }
   ],
   "source": [
    "Pr = float(input(\"Enter the Intial Reservoir Pressure(psia): \"))\n",
    "Cp = float(input(\"Enter the value of performance coefficient(stb/day-psia2)\"))\n",
    "plt.style.use('fivethirtyeight')\n",
    "plt.figure(figsize=(12,8))\n",
    "def IPR(Average_Pressure):\n",
    "    Pressures = np.arange(0,Average_Pressure,10)\n",
    "    C = Average_Pressure/Pr * Cp\n",
    "    \n",
    "    q = C*(Average_Pressure**2 - Pressures**2)\n",
    "    plt.figure(figsize=(12,8))\n",
    "    plt.plot(q,Pressures,linewidth = 2, color =\"red\")\n",
    "    plt.xlabel('q(stb/day)')\n",
    "    \n",
    "    plt.ylabel('Pwf(Psig)')\n",
    "\n",
    "    plt.title('Future IPR - Change of Reservoir deliverability with time')\n",
    "\n",
    "    plt.grid(True)\n",
    "    return q, Pressures\n",
    "Plot = interactive(IPR, Average_Pressure = np.arange(100,Pr+100,100))\n",
    "display(Plot)"
   ]
  },
  {
   "cell_type": "code",
   "execution_count": null,
   "metadata": {},
   "outputs": [],
   "source": []
  }
 ],
 "metadata": {
  "kernelspec": {
   "display_name": "Python 3",
   "language": "python",
   "name": "python3"
  },
  "language_info": {
   "codemirror_mode": {
    "name": "ipython",
    "version": 3
   },
   "file_extension": ".py",
   "mimetype": "text/x-python",
   "name": "python",
   "nbconvert_exporter": "python",
   "pygments_lexer": "ipython3",
   "version": "3.7.4"
  }
 },
 "nbformat": 4,
 "nbformat_minor": 2
}
