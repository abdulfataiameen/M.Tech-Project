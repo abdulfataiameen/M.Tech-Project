{
 "cells": [
  {
   "cell_type": "code",
   "execution_count": 1,
   "metadata": {},
   "outputs": [
    {
     "name": "stdout",
     "output_type": "stream",
     "text": [
      "Enter the area of the reservoir(acres) :648.7603\n",
      "Enter the wellbore radius(ft) :0.5\n",
      "Enter the value of Pe(psi) :4000\n",
      "Enter the value of oil formation volume factor :1\n",
      "Enter the value of oil flowrate(STB/Day) :600\n",
      "Enter the value of permeability(mD) :120\n",
      "Enter the value of payzone thickness(h) :30\n",
      "Enter the value of oil viscosity(cP) :10\n"
     ]
    },
    {
     "data": {
      "application/vnd.jupyter.widget-view+json": {
       "model_id": "3674dbeaffed425390dc047eba24e44a",
       "version_major": 2,
       "version_minor": 0
      },
      "text/plain": [
       "interactive(children=(FloatSlider(value=2.75, description='S', max=5.0, min=0.5), Output()), _dom_classes=('wi…"
      ]
     },
     "metadata": {},
     "output_type": "display_data"
    }
   ],
   "source": [
    "import numpy as np\n",
    "import matplotlib.pyplot as plt\n",
    "import pandas as pd\n",
    "%matplotlib inline\n",
    "\n",
    "from ipywidgets import interact, interactive\n",
    "from IPython.display import clear_output, display, HTML\n",
    "\n",
    "\n",
    "A = float(input(\"Enter the area of the reservoir(acres) :\"))\n",
    "re = np.sqrt(43560*A/3.14)\n",
    "rw = float(input(\"Enter the wellbore radius(ft) :\"))\n",
    "pe = float(input(\"Enter the value of Pe(psi) :\"))\n",
    "Bo = float(input(\"Enter the value of oil formation volume factor :\"))\n",
    "q =  float(input(\"Enter the value of oil flowrate(STB/Day) :\"))\n",
    "k =  float(input(\"Enter the value of permeability(mD) :\"))\n",
    "h = float(input(\"Enter the value of payzone thickness(h) :\")) \n",
    "mu = float(input(\"Enter the value of oil viscosity(cP) :\"))\n",
    "\n",
    "r = np.linspace(rw,50,500)\n",
    "p = []\n",
    "for i in r:\n",
    "    a = pe - (141.2*q*mu*Bo*(np.log(re/i))/k/h)\n",
    "    p.append(a)\n",
    "Pressures_Ideal = np.array(p).T\n",
    "Radius=r.reshape(500,1)\n",
    "\n",
    "\n",
    "def EffectofSkin(S):\n",
    "    rskin = np.linspace(rw,3,500)\n",
    "    P = []\n",
    "    for i in rskin:\n",
    "        a = pe - (141.2*q*mu*Bo*(np.log(re/i)+S)/k/h)\n",
    "        P.append(a)\n",
    "    A = np.array(P)\n",
    "    rSkin = np.append(rskin ,10)\n",
    "    Pressure_Skin = np.append(A,pe - (141.2*q*mu*Bo*(np.log(re/10))/k/h))\n",
    "    plt.style.use('fivethirtyeight')\n",
    "    plt.figure(figsize = (14,8))\n",
    "    plt.plot(rSkin,Pressure_Skin,label = \"Damaged(Skin) Pressure Profile\")\n",
    "    plt.plot(Radius,Pressures_Ideal,label = \"Ideal Pressure Profile\")\n",
    "    \n",
    "    plt.xlim(rw+0.5,50) ##To Show the line attached to Y Axis\n",
    "    \n",
    "    plt.ylim(900,3100)\n",
    "    plt.axvspan(0,10,alpha=0.2,label='Damaged Zone',color='yellow')\n",
    "    plt.axvspan(10,50,alpha=0,label='Undamaged Zone')\n",
    "    \n",
    "    plt.xlabel('Distance from centre of well \"r\"(ft)')\n",
    "    plt.ylabel('Pressure at r distance P(r), Psi')\n",
    "    plt.title('Effect of Formation Damage(Skin) on Pressure profile near Wellbore')\n",
    "    plt.legend(loc='best')\n",
    "\n",
    "    plt.grid(True)\n",
    "\n",
    "    return rSkin,Pressure_Skin\n",
    "\n",
    "\n",
    "Plot = interactive(EffectofSkin, S = (0.5,5))\n",
    "display(Plot)\n"
   ]
  },
  {
   "cell_type": "code",
   "execution_count": null,
   "metadata": {},
   "outputs": [],
   "source": []
  }
 ],
 "metadata": {
  "kernelspec": {
   "display_name": "Python 3",
   "language": "python",
   "name": "python3"
  },
  "language_info": {
   "codemirror_mode": {
    "name": "ipython",
    "version": 3
   },
   "file_extension": ".py",
   "mimetype": "text/x-python",
   "name": "python",
   "nbconvert_exporter": "python",
   "pygments_lexer": "ipython3",
   "version": "3.7.4"
  }
 },
 "nbformat": 4,
 "nbformat_minor": 2
}
